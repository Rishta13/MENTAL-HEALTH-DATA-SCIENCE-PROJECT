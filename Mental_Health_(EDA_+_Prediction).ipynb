{
  "metadata": {
    "kernelspec": {
      "language": "python",
      "display_name": "Python 3",
      "name": "python3"
    },
    "language_info": {
      "pygments_lexer": "ipython3",
      "nbconvert_exporter": "python",
      "version": "3.6.4",
      "file_extension": ".py",
      "codemirror_mode": {
        "name": "ipython",
        "version": 3
      },
      "name": "python",
      "mimetype": "text/x-python"
    },
    "kaggle": {
      "accelerator": "none",
      "dataSources": [
        {
          "sourceId": 6200306,
          "sourceType": "datasetVersion",
          "datasetId": 3559763
        }
      ],
      "dockerImageVersionId": 30527,
      "isInternetEnabled": true,
      "language": "python",
      "sourceType": "notebook",
      "isGpuEnabled": false
    },
    "colab": {
      "provenance": [],
      "include_colab_link": true
    }
  },
  "nbformat_minor": 0,
  "nbformat": 4,
  "cells": [
    {
      "cell_type": "markdown",
      "metadata": {
        "id": "view-in-github",
        "colab_type": "text"
      },
      "source": [
        "<a href=\"https://colab.research.google.com/github/Rishta13/MENTAL-HEALTH-DATA-SCIENCE-PROJECT/blob/main/Mental_Health_(EDA_%2B_Prediction).ipynb\" target=\"_parent\"><img src=\"https://colab.research.google.com/assets/colab-badge.svg\" alt=\"Open In Colab\"/></a>"
      ]
    },
    {
      "source": [
        "# IMPORTANT: RUN THIS CELL IN ORDER TO IMPORT YOUR KAGGLE DATA SOURCES,\n",
        "# THEN FEEL FREE TO DELETE THIS CELL.\n",
        "# NOTE: THIS NOTEBOOK ENVIRONMENT DIFFERS FROM KAGGLE'S PYTHON\n",
        "# ENVIRONMENT SO THERE MAY BE MISSING LIBRARIES USED BY YOUR\n",
        "# NOTEBOOK.\n",
        "import kagglehub\n",
        "imtkaggleteam_mental_health_path = kagglehub.dataset_download('imtkaggleteam/mental-health')\n",
        "\n",
        "print('Data source import complete.')\n"
      ],
      "metadata": {
        "id": "w5r5rR5m8r-J",
        "outputId": "d2750605-48c0-4108-ac82-9f3ac5eb8010",
        "colab": {
          "base_uri": "https://localhost:8080/"
        }
      },
      "cell_type": "code",
      "outputs": [
        {
          "output_type": "stream",
          "name": "stdout",
          "text": [
            "Downloading from https://www.kaggle.com/api/v1/datasets/download/imtkaggleteam/mental-health?dataset_version_number=1...\n"
          ]
        },
        {
          "output_type": "stream",
          "name": "stderr",
          "text": [
            "100%|██████████| 338k/338k [00:00<00:00, 682kB/s]"
          ]
        },
        {
          "output_type": "stream",
          "name": "stdout",
          "text": [
            "Extracting files...\n",
            "Data source import complete.\n"
          ]
        },
        {
          "output_type": "stream",
          "name": "stderr",
          "text": [
            "\n"
          ]
        }
      ],
      "execution_count": null
    },
    {
      "cell_type": "markdown",
      "source": [
        "\n",
        "<p style=\"text-align:center;\"><span style=\"font-size:48px;\"><span style=\"color:crimson;\"><span style=\"font-family:cursive;\"> Hello everyone! </span> </span>  </span></p>"
      ],
      "metadata": {
        "id": "KLEt6-k48r-M"
      }
    },
    {
      "cell_type": "markdown",
      "source": [
        "<div style=\"color:white;\n",
        "           display:fill;\n",
        "           border-radius:100px;\n",
        "           background-color:#5642C5;\n",
        "           font-size:120%;\n",
        "           font-family:Verdana;\n",
        "           letter-spacing:0.5px\">\n",
        "\n",
        "<p style=\"padding: 50px;\n",
        "              color:white;\">What is mental health?\n",
        "Mental health includes our emotional, psychological, and social well-being. It affects how we think, feel, and act. It also helps determine how we handle stress, relate to others, and make healthy choices.1 Mental health is important at every stage of life, from childhood and adolescence through adulthood.\n",
        "\n",
        "</p>\n",
        "</div>\n"
      ],
      "metadata": {
        "id": "sR-_COju8r-M"
      }
    },
    {
      "cell_type": "markdown",
      "source": [
        "<div style=\"color:white;\n",
        "           display:fill;\n",
        "           border-radius:100px;\n",
        "           background-color:#5642C5;\n",
        "           font-size:120%;\n",
        "           font-family:Verdana;\n",
        "           letter-spacing:0.5px\">\n",
        "\n",
        "<p style=\"padding: 50px;\n",
        "              color:white;\">Why is mental health important for overall health?\n",
        "    Mental and physical health are equally important components of overall health.  For example, depression increases the risk for many types of physical health problems, particularly long-lasting conditions like diabetes, heart disease, and stroke. Similarly, the presence of chronic conditions can increase the risk for mental illness.\n",
        "\n",
        "</p>\n",
        "</div>\n"
      ],
      "metadata": {
        "id": "74RsK_qY8r-N"
      }
    },
    {
      "cell_type": "markdown",
      "source": [
        "<div style=\"color:white;\n",
        "           display:fill;\n",
        "           border-radius:100px;\n",
        "           background-color:#5642C5;\n",
        "           font-size:120%;\n",
        "           font-family:Verdana;\n",
        "           letter-spacing:0.5px\">\n",
        "\n",
        "<p style=\"padding: 50px;\n",
        "              color:white;\">In this notebook, I intend to perform analysis among different datasets. First, we will have a comprehensive analysis of the data using the Plotly library. Then, with the regression algorithm, we consider one of the variables as a target and model it. Of course, it is better to use clustering in this data, which I will do in the next notebook.\n",
        "\n",
        "</p>\n",
        "</div>\n"
      ],
      "metadata": {
        "id": "hrl4VTUr8r-N"
      }
    },
    {
      "cell_type": "markdown",
      "source": [
        "<div style=\"color:white;\n",
        "           display:fill;\n",
        "           border-radius:100px;\n",
        "           background-color:#5642C5;\n",
        "           font-size:120%;\n",
        "           font-family:Verdana;\n",
        "           letter-spacing:0.5px\">\n",
        "\n",
        "<p style=\"padding: 30px;\n",
        "              color:white;\">Well, let's get started.\n",
        "</p>\n",
        "</div>"
      ],
      "metadata": {
        "id": "lAgreifL8r-N"
      }
    },
    {
      "cell_type": "markdown",
      "source": [
        "# 1- Import Libraries"
      ],
      "metadata": {
        "id": "aZT27Nor8r-N"
      }
    },
    {
      "cell_type": "code",
      "source": [
        "#import important libraries\n",
        "import numpy as np\n",
        "import pandas as pd\n",
        "import matplotlib.pyplot as plt\n",
        "import seaborn as sns\n",
        "from sklearn.linear_model import LinearRegression\n",
        "from sklearn.model_selection import train_test_split\n",
        "from sklearn.model_selection import KFold\n",
        "from sklearn.model_selection import cross_val_score\n",
        "from sklearn import preprocessing\n",
        "from sklearn import metrics\n",
        "import plotly.graph_objects as go\n",
        "import plotly.express as px\n",
        "from plotly.subplots import make_subplots\n",
        "from plotly.offline import init_notebook_mode\n",
        "init_notebook_mode(connected=True)\n",
        "import warnings\n",
        "warnings.filterwarnings(\"ignore\")"
      ],
      "metadata": {
        "execution": {
          "iopub.status.busy": "2023-08-03T07:46:20.394061Z",
          "iopub.execute_input": "2023-08-03T07:46:20.39456Z",
          "iopub.status.idle": "2023-08-03T07:46:20.403857Z",
          "shell.execute_reply.started": "2023-08-03T07:46:20.394519Z",
          "shell.execute_reply": "2023-08-03T07:46:20.402729Z"
        },
        "trusted": true,
        "id": "oqAzv6eG8r-O",
        "outputId": "ad738eb4-1b83-4831-9bf0-82b8da6a39f1",
        "colab": {
          "base_uri": "https://localhost:8080/",
          "height": 17
        }
      },
      "outputs": [
        {
          "output_type": "display_data",
          "data": {
            "text/html": [
              "        <script type=\"text/javascript\">\n",
              "        window.PlotlyConfig = {MathJaxConfig: 'local'};\n",
              "        if (window.MathJax && window.MathJax.Hub && window.MathJax.Hub.Config) {window.MathJax.Hub.Config({SVG: {font: \"STIX-Web\"}});}\n",
              "        if (typeof require !== 'undefined') {\n",
              "        require.undef(\"plotly\");\n",
              "        requirejs.config({\n",
              "            paths: {\n",
              "                'plotly': ['https://cdn.plot.ly/plotly-2.35.2.min']\n",
              "            }\n",
              "        });\n",
              "        require(['plotly'], function(Plotly) {\n",
              "            window._Plotly = Plotly;\n",
              "        });\n",
              "        }\n",
              "        </script>\n",
              "        "
            ]
          },
          "metadata": {}
        }
      ],
      "execution_count": null
    },
    {
      "cell_type": "markdown",
      "source": [
        "# 2- Call Datasets"
      ],
      "metadata": {
        "id": "YggnXN8i8r-O"
      }
    },
    {
      "cell_type": "code",
      "source": [
        "Data1 = pd.read_csv(\"/kaggle/input/mental-health/1- mental-illnesses-prevalence.csv\")\n",
        "Data2 = pd.read_csv(\"/kaggle/input/mental-health/4- adult-population-covered-in-primary-data-on-the-prevalence-of-mental-illnesses.csv\")\n",
        "Data3 = pd.read_csv(\"/kaggle/input/mental-health/6- depressive-symptoms-across-us-population.csv\")\n",
        "Data4 = pd.read_csv(\"/kaggle/input/mental-health/7- number-of-countries-with-primary-data-on-prevalence-of-mental-illnesses-in-the-global-burden-of-disease-study.csv\")"
      ],
      "metadata": {
        "execution": {
          "iopub.status.busy": "2023-08-03T07:44:42.156899Z",
          "iopub.execute_input": "2023-08-03T07:44:42.157562Z",
          "iopub.status.idle": "2023-08-03T07:44:42.220132Z",
          "shell.execute_reply.started": "2023-08-03T07:44:42.157519Z",
          "shell.execute_reply": "2023-08-03T07:44:42.219069Z"
        },
        "trusted": true,
        "id": "X6vHs6V18r-O"
      },
      "outputs": [],
      "execution_count": null
    },
    {
      "cell_type": "code",
      "source": [
        "df1 = pd.DataFrame(Data1)\n",
        "df2 = pd.DataFrame(Data2)\n",
        "df3 = pd.DataFrame(Data3)\n",
        "df4 = pd.DataFrame(Data4)"
      ],
      "metadata": {
        "execution": {
          "iopub.status.busy": "2023-08-03T07:44:42.22151Z",
          "iopub.execute_input": "2023-08-03T07:44:42.221913Z",
          "iopub.status.idle": "2023-08-03T07:44:42.227865Z",
          "shell.execute_reply.started": "2023-08-03T07:44:42.221876Z",
          "shell.execute_reply": "2023-08-03T07:44:42.226695Z"
        },
        "trusted": true,
        "id": "Os60GXxj8r-O"
      },
      "outputs": [],
      "execution_count": null
    },
    {
      "cell_type": "markdown",
      "source": [
        "# 3- Functional Describe of All Datasets"
      ],
      "metadata": {
        "id": "qTftzejZ8r-O"
      }
    },
    {
      "cell_type": "code",
      "source": [
        "def describe(df):\n",
        "\n",
        "\n",
        "    variables = []\n",
        "    dtypes = []\n",
        "    count = []\n",
        "    unique = []\n",
        "    missing = []\n",
        "\n",
        "\n",
        "    for item in df.columns:\n",
        "        variables.append(item)\n",
        "        dtypes.append(df[item].dtype)\n",
        "        count.append(len(df[item]))\n",
        "        unique.append(len(df[item].unique()))\n",
        "        missing.append(df[item].isna().sum())\n",
        "\n",
        "\n",
        "    output = pd.DataFrame({\n",
        "        'variable': variables,\n",
        "        'dtype': dtypes,\n",
        "        'count': count,\n",
        "        'unique': unique,\n",
        "        'missing value': missing\n",
        "    })\n",
        "\n",
        "    return output"
      ],
      "metadata": {
        "execution": {
          "iopub.status.busy": "2023-08-03T07:44:42.231268Z",
          "iopub.execute_input": "2023-08-03T07:44:42.231768Z",
          "iopub.status.idle": "2023-08-03T07:44:42.239889Z",
          "shell.execute_reply.started": "2023-08-03T07:44:42.231729Z",
          "shell.execute_reply": "2023-08-03T07:44:42.239001Z"
        },
        "trusted": true,
        "id": "Gz_qSvWy8r-O"
      },
      "outputs": [],
      "execution_count": null
    },
    {
      "cell_type": "code",
      "source": [
        "class color:\n",
        "   BLUE = '\\033[94m'\n",
        "   BOLD = '\\033[1m'\n",
        "   UNDERLINE = '\\033[4m'\n",
        "   END = '\\033[0m'"
      ],
      "metadata": {
        "execution": {
          "iopub.status.busy": "2023-08-03T07:44:42.241107Z",
          "iopub.execute_input": "2023-08-03T07:44:42.241543Z",
          "iopub.status.idle": "2023-08-03T07:44:42.250785Z",
          "shell.execute_reply.started": "2023-08-03T07:44:42.241515Z",
          "shell.execute_reply": "2023-08-03T07:44:42.249853Z"
        },
        "trusted": true,
        "id": "N9smAaB18r-P"
      },
      "outputs": [],
      "execution_count": null
    },
    {
      "cell_type": "markdown",
      "source": [
        "# 4- Output of Describes"
      ],
      "metadata": {
        "id": "l9DpHurb8r-P"
      }
    },
    {
      "cell_type": "code",
      "source": [
        "print(color.BOLD + color.BLUE + color.UNDERLINE +\n",
        "      '\"The describe table of df1 : Mental illness dataframe\"' + color.END)\n",
        "print(describe(df1))\n",
        "print(\"\\n\")\n",
        "print(color.BOLD + color.BLUE + color.UNDERLINE +\n",
        "      '\"The describe table of df2 : Adult population, mental illnesses\"' + color.END)\n",
        "print(describe(df2))\n",
        "print(\"\\n\")\n",
        "print(color.BOLD + color.BLUE + color.UNDERLINE +\n",
        "      '\"The describe table of df3 : Depressive\"' + color.END)\n",
        "print(describe(df3))\n",
        "print(\"\\n\")\n",
        "print(color.BOLD + color.BLUE + color.UNDERLINE +\n",
        "      '\"The describe table of df4 : Number of countries\"' + color.END)\n",
        "print(describe(df4))"
      ],
      "metadata": {
        "execution": {
          "iopub.status.busy": "2023-08-03T07:44:42.252096Z",
          "iopub.execute_input": "2023-08-03T07:44:42.252409Z",
          "iopub.status.idle": "2023-08-03T07:44:42.312576Z",
          "shell.execute_reply.started": "2023-08-03T07:44:42.252381Z",
          "shell.execute_reply": "2023-08-03T07:44:42.311784Z"
        },
        "trusted": true,
        "id": "Ip_R9O7x8r-P"
      },
      "outputs": [],
      "execution_count": null
    },
    {
      "cell_type": "markdown",
      "source": [
        "# 5- Some Visualizations with Plotly"
      ],
      "metadata": {
        "id": "Te5PYXs38r-P"
      }
    },
    {
      "cell_type": "code",
      "source": [
        "df2.sort_values(by= \"Major depression\" ,inplace=True)\n",
        "plt.figure(dpi=200)\n",
        "fig = px.bar(df2, x=\"Major depression\", y=\"Entity\", orientation='h',color='Bipolar disorder')\n",
        "fig.show()"
      ],
      "metadata": {
        "execution": {
          "iopub.status.busy": "2023-08-03T07:44:42.313776Z",
          "iopub.execute_input": "2023-08-03T07:44:42.314286Z",
          "iopub.status.idle": "2023-08-03T07:44:44.313983Z",
          "shell.execute_reply.started": "2023-08-03T07:44:42.314256Z",
          "shell.execute_reply": "2023-08-03T07:44:44.31305Z"
        },
        "trusted": true,
        "id": "FpyMjx6q8r-P"
      },
      "outputs": [],
      "execution_count": null
    },
    {
      "cell_type": "code",
      "source": [
        "df2.sort_values(by= \"Eating disorders\" ,inplace=True)\n",
        "plt.figure(dpi=200)\n",
        "fig = px.bar(df2, x=\"Eating disorders\", y=\"Entity\", orientation='h',color='Dysthymia')\n",
        "fig.show()"
      ],
      "metadata": {
        "execution": {
          "iopub.status.busy": "2023-08-03T07:44:44.31746Z",
          "iopub.execute_input": "2023-08-03T07:44:44.319312Z",
          "iopub.status.idle": "2023-08-03T07:44:44.395053Z",
          "shell.execute_reply.started": "2023-08-03T07:44:44.319281Z",
          "shell.execute_reply": "2023-08-03T07:44:44.394129Z"
        },
        "trusted": true,
        "id": "7aTuvkbs8r-Q"
      },
      "outputs": [],
      "execution_count": null
    },
    {
      "cell_type": "code",
      "source": [
        "df2.replace(to_replace=\"<0.1\", value=0.1, regex=True, inplace=True)"
      ],
      "metadata": {
        "execution": {
          "iopub.status.busy": "2023-08-03T07:44:44.396283Z",
          "iopub.execute_input": "2023-08-03T07:44:44.397279Z",
          "iopub.status.idle": "2023-08-03T07:44:44.40372Z",
          "shell.execute_reply.started": "2023-08-03T07:44:44.397237Z",
          "shell.execute_reply": "2023-08-03T07:44:44.402705Z"
        },
        "trusted": true,
        "id": "fXpZJMhc8r-Q"
      },
      "outputs": [],
      "execution_count": null
    },
    {
      "cell_type": "code",
      "source": [
        "df2['Schizophrenia'] = df2['Schizophrenia'].astype(float)"
      ],
      "metadata": {
        "execution": {
          "iopub.status.busy": "2023-08-03T07:44:44.407937Z",
          "iopub.execute_input": "2023-08-03T07:44:44.408773Z",
          "iopub.status.idle": "2023-08-03T07:44:44.420414Z",
          "shell.execute_reply.started": "2023-08-03T07:44:44.408743Z",
          "shell.execute_reply": "2023-08-03T07:44:44.419546Z"
        },
        "trusted": true,
        "id": "YZFzlKoD8r-Q"
      },
      "outputs": [],
      "execution_count": null
    },
    {
      "cell_type": "code",
      "source": [
        "df2.sort_values(by= \"Schizophrenia\" ,inplace=True)\n",
        "plt.figure(dpi=200)\n",
        "fig = px.bar(df2, x=\"Schizophrenia\", y=\"Entity\", orientation='h',color='Anxiety disorders')\n",
        "fig.show()"
      ],
      "metadata": {
        "execution": {
          "iopub.status.busy": "2023-08-03T07:44:44.421685Z",
          "iopub.execute_input": "2023-08-03T07:44:44.422481Z",
          "iopub.status.idle": "2023-08-03T07:44:44.501098Z",
          "shell.execute_reply.started": "2023-08-03T07:44:44.422443Z",
          "shell.execute_reply": "2023-08-03T07:44:44.500218Z"
        },
        "trusted": true,
        "id": "3wvd7aSZ8r-Q"
      },
      "outputs": [],
      "execution_count": null
    },
    {
      "cell_type": "markdown",
      "source": [
        "# 6- Amazing Dynamik Subplot with Plotly and go"
      ],
      "metadata": {
        "id": "UpgxaapD8r-Q"
      }
    },
    {
      "cell_type": "code",
      "source": [
        "fig = make_subplots(rows=1, cols=2, specs=[[{}, {}]], shared_xaxes=True,\n",
        "                    shared_yaxes=False, vertical_spacing=0.001)\n",
        "\n",
        "x1 = [\"Andean Latin America\", \"West Sub-Saharan Africa\", \"Tropical Latin America\", \"Central Asia\", \"Central Europe\",\n",
        "    \"Central Sub-Saharan Africa\", \"Southern Latin America\", \"North Africa/Middle East\", \"Southern Sub-Saharan Africa\",\n",
        "    \"Southeast Asia\", \"Oceania\", \"Central Latin America\", \"Eastern Europe\", \"South Asia\", \"East Sub-Saharan Africa\",\n",
        "    \"Western Europe\", \"World\", \"East Asia\", \"Caribbean\", \"Asia Pacific\", \"Australasia\", \"North America\"]\n",
        "\n",
        "fig.append_trace(go.Bar(\n",
        "    x=df2[\"Bipolar disorder\"],\n",
        "    y=x1,\n",
        "    marker=dict(\n",
        "        color='rgba(50, 171, 96, 0.6)',\n",
        "        line=dict(\n",
        "            color='rgba(20, 10, 56, 1.0)',\n",
        "            width=0),\n",
        "    ),\n",
        "    name='Bipolar disorder in Mental Health',\n",
        "    orientation='h',\n",
        "), 1, 1)\n",
        "\n",
        "fig.append_trace(go.Scatter(\n",
        "    x=df2[\"Major depression\"], y=x1,\n",
        "    mode='lines+markers',\n",
        "    line_color='rgb(40, 0, 128)',\n",
        "    name='Major depression in Mental Health',\n",
        "), 1, 2)\n",
        "\n",
        "fig.update_layout(\n",
        "    title='Major depression and Bipolar disorder',\n",
        "    yaxis=dict(\n",
        "        showgrid=False,\n",
        "        showline=False,\n",
        "        showticklabels=True,\n",
        "        domain=[0, 0.85],\n",
        "    ),\n",
        "    yaxis2=dict(\n",
        "        showgrid=False,\n",
        "        showline=True,\n",
        "        showticklabels=False,\n",
        "        linecolor='rgba(102, 102, 102, 0.8)',\n",
        "        linewidth=5,\n",
        "        domain=[0, 0.85],\n",
        "    ),\n",
        "    xaxis=dict(\n",
        "        zeroline=False,\n",
        "        showline=False,\n",
        "        showticklabels=True,\n",
        "        showgrid=True,\n",
        "        domain=[0, 0.45],\n",
        "    ),\n",
        "    xaxis2=dict(\n",
        "        zeroline=False,\n",
        "        showline=False,\n",
        "        showticklabels=True,\n",
        "        showgrid=True,\n",
        "        domain=[0.47, 1],\n",
        "        side='top',\n",
        "        dtick=10000,\n",
        "    ),\n",
        "    legend=dict(x=0.029, y=1.038, font_size=10),\n",
        "    margin=dict(l=100, r=20, t=70, b=70),\n",
        "    paper_bgcolor='rgb(248, 248, 255)',\n",
        "    plot_bgcolor='rgb(248, 248, 255)',\n",
        ")\n",
        "\n",
        "annotations = []\n",
        "\n",
        "\n",
        "# Adding labels\n",
        "for ydn, yd, xd in zip(df2[\"Major depression\"], df2[\"Bipolar disorder\"], x1):\n",
        "    # labeling the scatter savings\n",
        "    annotations.append(dict(xref='x2', yref='y2',\n",
        "                            y=xd, x=ydn+10,\n",
        "                            text='{:,}'.format(ydn) + '%',\n",
        "                            font=dict(family='Arial', size=10,\n",
        "                                      color='rgb(128, 0, 128)'),\n",
        "                            showarrow=False))\n",
        "    # labeling the bar net worth\n",
        "    annotations.append(dict(xref='x1', yref='y1',\n",
        "                            y=xd, x=yd+10 ,\n",
        "                            text=str(yd) + '%',\n",
        "                            font=dict(family='Arial', size=10,\n",
        "                                      color='rgb(50, 171, 96)'),\n",
        "                            showarrow=False))\n",
        "# Source\n",
        "annotations.append(dict(xref='paper', yref='paper',\n",
        "                        x=-0.2, y=-0.109,\n",
        "                        text=\"Mental health visualization\",\n",
        "                        font=dict(family='Arial', size=20, color='rgb(150,150,150)'),\n",
        "                        showarrow=False))\n",
        "\n",
        "fig.update_layout(annotations=annotations)\n",
        "\n",
        "fig.show()"
      ],
      "metadata": {
        "execution": {
          "iopub.status.busy": "2023-08-03T07:44:44.502322Z",
          "iopub.execute_input": "2023-08-03T07:44:44.502811Z",
          "iopub.status.idle": "2023-08-03T07:44:44.645505Z",
          "shell.execute_reply.started": "2023-08-03T07:44:44.502783Z",
          "shell.execute_reply": "2023-08-03T07:44:44.644149Z"
        },
        "trusted": true,
        "id": "t4qe-okP8r-R"
      },
      "outputs": [],
      "execution_count": null
    },
    {
      "cell_type": "markdown",
      "source": [
        "# 7- Multiple Analysis"
      ],
      "metadata": {
        "id": "KC9e4MrC8r-R"
      }
    },
    {
      "cell_type": "code",
      "source": [
        "x = [\"Appetite change\", \"Average across symptoms\", \"Depressed mood\", \"Difficulty concentrating\", \"Loss of interest\",\n",
        "    \"Low energy\", \"Low self-esteem\", \"Psychomotor agitation\", \"Psychomotor agitation\", \"Sleep problems\", \"Suicidal ideation\"]\n",
        "\n",
        "fig = go.Figure()\n",
        "# Create and style traces\n",
        "fig.add_trace(go.Scatter(x=x, y=df3[\"Nearly every day\"], name='Nearly every day',\n",
        "                         line=dict(color='firebrick', width=4)))\n",
        "fig.add_trace(go.Scatter(x=x, y=df3[\"More than half the days\"], name = 'More than half the days',\n",
        "                         line=dict(color='royalblue', width=4)))\n",
        "fig.add_trace(go.Scatter(x=x, y=df3[\"Several days\"], name='Several days',\n",
        "                         line=dict(color='black', width=4,\n",
        "                              dash='dashdot') # dash options include 'dash', 'dot', and 'dashdot'\n",
        "))\n",
        "\n",
        "# Edit the layout\n",
        "fig.update_layout(title='Depressive symptoms across us population',\n",
        "                   xaxis_title='Entity',\n",
        "                   yaxis_title='Types of days')\n",
        "\n",
        "\n",
        "fig.show()"
      ],
      "metadata": {
        "execution": {
          "iopub.status.busy": "2023-08-03T07:44:44.647178Z",
          "iopub.execute_input": "2023-08-03T07:44:44.647709Z",
          "iopub.status.idle": "2023-08-03T07:44:44.669225Z",
          "shell.execute_reply.started": "2023-08-03T07:44:44.64767Z",
          "shell.execute_reply": "2023-08-03T07:44:44.668529Z"
        },
        "trusted": true,
        "id": "L7y4nFtu8r-R"
      },
      "outputs": [],
      "execution_count": null
    },
    {
      "cell_type": "code",
      "source": [
        "x = [\"Alcohol use disorders\", \"Amphetamine use disorders\", \"Anorexia nervosa\", \"Anxiety disorders\",\n",
        "     \"Attention-deficit hyperactivity disorder\", \"Autism spectrum disorders\", \"Bipolar disorder\",\n",
        "     \"Bulimia nervosa\", \"Cannabis use disorders\", \"Cocaine use disorders\", \"Dysthymia\",\"Major depressive disorder\",\n",
        "    \"Opioid use disorders\", \"Other drug use disorders\", \"Personality disorders\"]\n",
        "\n",
        "fig = go.Figure()\n",
        "# Create and style traces\n",
        "fig.add_trace(go.Scatter(x=x, y=df4[\"Number of countries with primary data on prevalence of mental disorders\"],\n",
        "                         name='Nearly every day',\n",
        "                         line=dict(color='firebrick', width=4)))\n",
        "\n",
        "\n",
        "# Edit the layout\n",
        "fig.update_layout(title='mental illnesses in the global burden of disease study',\n",
        "                   xaxis_title='illnesses',\n",
        "                   yaxis_title='Number of countries')\n",
        "\n",
        "\n",
        "fig.show()"
      ],
      "metadata": {
        "execution": {
          "iopub.status.busy": "2023-08-03T07:44:44.67055Z",
          "iopub.execute_input": "2023-08-03T07:44:44.670857Z",
          "iopub.status.idle": "2023-08-03T07:44:44.687194Z",
          "shell.execute_reply.started": "2023-08-03T07:44:44.670829Z",
          "shell.execute_reply": "2023-08-03T07:44:44.686472Z"
        },
        "trusted": true,
        "id": "6JR8rdI58r-R"
      },
      "outputs": [],
      "execution_count": null
    },
    {
      "cell_type": "markdown",
      "source": [
        "# 8- Rename Columns"
      ],
      "metadata": {
        "id": "JsLRlN2c8r-R"
      }
    },
    {
      "cell_type": "code",
      "source": [
        "df1_column_names = list(df1.columns.values)\n",
        "df1_column_names"
      ],
      "metadata": {
        "execution": {
          "iopub.status.busy": "2023-08-03T07:44:44.688242Z",
          "iopub.execute_input": "2023-08-03T07:44:44.689067Z",
          "iopub.status.idle": "2023-08-03T07:44:44.698548Z",
          "shell.execute_reply.started": "2023-08-03T07:44:44.688889Z",
          "shell.execute_reply": "2023-08-03T07:44:44.697757Z"
        },
        "trusted": true,
        "id": "DSuvWIe68r-R"
      },
      "outputs": [],
      "execution_count": null
    },
    {
      "cell_type": "code",
      "source": [
        "df1 = df1.rename(columns={'Schizophrenia disorders (share of population) - Sex: Both - Age: Age-standardized': 'Schizophrenia disorders',\n",
        "                          'Depressive disorders (share of population) - Sex: Both - Age: Age-standardized': 'Depressive disorders',\n",
        "                         'Anxiety disorders (share of population) - Sex: Both - Age: Age-standardized':'Anxiety disorders',\n",
        "                         'Bipolar disorders (share of population) - Sex: Both - Age: Age-standardized':'Bipolar disorders',\n",
        "                         'Eating disorders (share of population) - Sex: Both - Age: Age-standardized':'Eating disorders'})"
      ],
      "metadata": {
        "execution": {
          "iopub.status.busy": "2023-08-03T07:44:44.699921Z",
          "iopub.execute_input": "2023-08-03T07:44:44.700801Z",
          "iopub.status.idle": "2023-08-03T07:44:44.714605Z",
          "shell.execute_reply.started": "2023-08-03T07:44:44.700761Z",
          "shell.execute_reply": "2023-08-03T07:44:44.713557Z"
        },
        "trusted": true,
        "id": "U6PtYt-z8r-R"
      },
      "outputs": [],
      "execution_count": null
    },
    {
      "cell_type": "code",
      "source": [
        "df1"
      ],
      "metadata": {
        "execution": {
          "iopub.status.busy": "2023-08-03T07:44:44.716187Z",
          "iopub.execute_input": "2023-08-03T07:44:44.716988Z",
          "iopub.status.idle": "2023-08-03T07:44:44.746495Z",
          "shell.execute_reply.started": "2023-08-03T07:44:44.716951Z",
          "shell.execute_reply": "2023-08-03T07:44:44.745422Z"
        },
        "trusted": true,
        "id": "S8U5vlBf8r-S"
      },
      "outputs": [],
      "execution_count": null
    },
    {
      "cell_type": "code",
      "source": [
        "df1_variables = df1[[\"Schizophrenia disorders\",\"Depressive disorders\",\"Anxiety disorders\",\"Bipolar disorders\",\n",
        "                       \"Eating disorders\"]]"
      ],
      "metadata": {
        "execution": {
          "iopub.status.busy": "2023-08-03T07:44:44.748262Z",
          "iopub.execute_input": "2023-08-03T07:44:44.749259Z",
          "iopub.status.idle": "2023-08-03T07:44:44.755841Z",
          "shell.execute_reply.started": "2023-08-03T07:44:44.749218Z",
          "shell.execute_reply": "2023-08-03T07:44:44.754887Z"
        },
        "trusted": true,
        "id": "ofCqF1RN8r-S"
      },
      "outputs": [],
      "execution_count": null
    },
    {
      "cell_type": "code",
      "source": [
        "df1_variables"
      ],
      "metadata": {
        "execution": {
          "iopub.status.busy": "2023-08-03T07:44:44.759187Z",
          "iopub.execute_input": "2023-08-03T07:44:44.759507Z",
          "iopub.status.idle": "2023-08-03T07:44:44.781728Z",
          "shell.execute_reply.started": "2023-08-03T07:44:44.759472Z",
          "shell.execute_reply": "2023-08-03T07:44:44.78047Z"
        },
        "trusted": true,
        "id": "3idVcCtF8r-S"
      },
      "outputs": [],
      "execution_count": null
    },
    {
      "cell_type": "markdown",
      "source": [
        "# 9- Correlation"
      ],
      "metadata": {
        "id": "FHtzz7lk8r-S"
      }
    },
    {
      "cell_type": "code",
      "source": [
        "Corrmat = df1_variables.corr()"
      ],
      "metadata": {
        "execution": {
          "iopub.status.busy": "2023-08-03T07:44:44.783616Z",
          "iopub.execute_input": "2023-08-03T07:44:44.784012Z",
          "iopub.status.idle": "2023-08-03T07:44:44.797397Z",
          "shell.execute_reply.started": "2023-08-03T07:44:44.783971Z",
          "shell.execute_reply": "2023-08-03T07:44:44.79655Z"
        },
        "trusted": true,
        "id": "neV3flOP8r-S"
      },
      "outputs": [],
      "execution_count": null
    },
    {
      "cell_type": "code",
      "source": [
        "plt.figure(figsize=(10, 5), dpi=200)\n",
        "sns.heatmap(Corrmat, annot=True,fmt=\".2f\", linewidth=.5)"
      ],
      "metadata": {
        "execution": {
          "iopub.status.busy": "2023-08-03T07:44:44.798815Z",
          "iopub.execute_input": "2023-08-03T07:44:44.799473Z",
          "iopub.status.idle": "2023-08-03T07:44:45.452473Z",
          "shell.execute_reply.started": "2023-08-03T07:44:44.799407Z",
          "shell.execute_reply": "2023-08-03T07:44:45.451314Z"
        },
        "trusted": true,
        "id": "WPkQZQAO8r-T"
      },
      "outputs": [],
      "execution_count": null
    },
    {
      "cell_type": "markdown",
      "source": [
        "# 10- Scatter and Box plot"
      ],
      "metadata": {
        "id": "-RO6jhwd8r-T"
      }
    },
    {
      "cell_type": "code",
      "source": [
        "fig, ((ax1, ax2), (ax3, ax4)) = plt.subplots(ncols=2,nrows=2,figsize= (15,10))\n",
        "\n",
        "ax1.set_title('Schizophrenia - Eating')\n",
        "sns.scatterplot(x=\"Schizophrenia disorders\", y=\"Eating disorders\", data=df1_variables, ax=ax1)\n",
        "\n",
        "ax2.set_title('Depressive - Eating')\n",
        "sns.scatterplot(x='Depressive disorders', y=\"Eating disorders\", data=df1_variables, ax=ax2)\n",
        "\n",
        "ax3.set_title('Anxiety - Eating')\n",
        "sns.scatterplot(x='Anxiety disorders', y=\"Eating disorders\", data=df1_variables, ax=ax3)\n",
        "\n",
        "ax4.set_title('Bipolar - Eating')\n",
        "sns.scatterplot(x='Bipolar disorders', y=\"Eating disorders\", data=df1_variables, ax=ax4)\n",
        "\n",
        "plt.tight_layout()"
      ],
      "metadata": {
        "execution": {
          "iopub.status.busy": "2023-08-03T07:44:45.454294Z",
          "iopub.execute_input": "2023-08-03T07:44:45.454635Z",
          "iopub.status.idle": "2023-08-03T07:44:46.938608Z",
          "shell.execute_reply.started": "2023-08-03T07:44:45.454605Z",
          "shell.execute_reply": "2023-08-03T07:44:46.937593Z"
        },
        "trusted": true,
        "id": "Z8yRThQv8r-T"
      },
      "outputs": [],
      "execution_count": null
    },
    {
      "cell_type": "code",
      "source": [
        "Numerical = ['Schizophrenia disorders', 'Depressive disorders','Anxiety disorders','Bipolar disorders','Eating disorders']\n",
        "i = 0\n",
        "while i < 5:\n",
        "    fig = plt.figure(figsize = [30,3], dpi=200)\n",
        "    plt.subplot(2,2,1)\n",
        "    sns.boxplot(x = Numerical[i], data = df1_variables)\n",
        "    i += 1\n",
        "    plt.show()"
      ],
      "metadata": {
        "execution": {
          "iopub.status.busy": "2023-08-03T07:44:46.93993Z",
          "iopub.execute_input": "2023-08-03T07:44:46.940983Z",
          "iopub.status.idle": "2023-08-03T07:44:47.90424Z",
          "shell.execute_reply.started": "2023-08-03T07:44:46.940943Z",
          "shell.execute_reply": "2023-08-03T07:44:47.902891Z"
        },
        "trusted": true,
        "id": "HwK5xYB58r-T"
      },
      "outputs": [],
      "execution_count": null
    },
    {
      "cell_type": "markdown",
      "source": [
        "Creat model"
      ],
      "metadata": {
        "id": "R0ERU3xf8r-U"
      }
    },
    {
      "cell_type": "markdown",
      "source": [
        "# 11- Normalize"
      ],
      "metadata": {
        "id": "PY0zHT748r-U"
      }
    },
    {
      "cell_type": "code",
      "source": [
        "features = ['Schizophrenia disorders', 'Depressive disorders','Anxiety disorders','Bipolar disorders']\n",
        "X_model = df1[features]\n",
        "y_model = df1[\"Eating disorders\"]"
      ],
      "metadata": {
        "execution": {
          "iopub.status.busy": "2023-08-03T07:44:47.906127Z",
          "iopub.execute_input": "2023-08-03T07:44:47.906897Z",
          "iopub.status.idle": "2023-08-03T07:44:47.913316Z",
          "shell.execute_reply.started": "2023-08-03T07:44:47.906854Z",
          "shell.execute_reply": "2023-08-03T07:44:47.912176Z"
        },
        "trusted": true,
        "id": "Z5_rqurT8r-U"
      },
      "outputs": [],
      "execution_count": null
    },
    {
      "cell_type": "code",
      "source": [
        "scaler = preprocessing.MinMaxScaler()\n",
        "X_model_norm = scaler.fit_transform(X_model)"
      ],
      "metadata": {
        "execution": {
          "iopub.status.busy": "2023-08-03T07:44:47.915114Z",
          "iopub.execute_input": "2023-08-03T07:44:47.915547Z",
          "iopub.status.idle": "2023-08-03T07:44:47.931612Z",
          "shell.execute_reply.started": "2023-08-03T07:44:47.915508Z",
          "shell.execute_reply": "2023-08-03T07:44:47.930531Z"
        },
        "trusted": true,
        "id": "9pghhoKM8r-U"
      },
      "outputs": [],
      "execution_count": null
    },
    {
      "cell_type": "code",
      "source": [
        "X_model_norm"
      ],
      "metadata": {
        "execution": {
          "iopub.status.busy": "2023-08-03T07:44:47.933495Z",
          "iopub.execute_input": "2023-08-03T07:44:47.933936Z",
          "iopub.status.idle": "2023-08-03T07:44:47.943943Z",
          "shell.execute_reply.started": "2023-08-03T07:44:47.933899Z",
          "shell.execute_reply": "2023-08-03T07:44:47.942746Z"
        },
        "trusted": true,
        "id": "vSUeCU4g8r-U"
      },
      "outputs": [],
      "execution_count": null
    },
    {
      "cell_type": "markdown",
      "source": [
        "# 12- Simple Linear Regression"
      ],
      "metadata": {
        "id": "-XbgpcXj8r-U"
      }
    },
    {
      "cell_type": "code",
      "source": [
        "X_train, X_test, y_train, y_test = train_test_split(X_model_norm, y_model, test_size=20, random_state=42)"
      ],
      "metadata": {
        "execution": {
          "iopub.status.busy": "2023-08-03T07:44:47.945739Z",
          "iopub.execute_input": "2023-08-03T07:44:47.946119Z",
          "iopub.status.idle": "2023-08-03T07:44:47.954129Z",
          "shell.execute_reply.started": "2023-08-03T07:44:47.946083Z",
          "shell.execute_reply": "2023-08-03T07:44:47.953118Z"
        },
        "trusted": true,
        "id": "5j4dedKU8r-U"
      },
      "outputs": [],
      "execution_count": null
    },
    {
      "cell_type": "code",
      "source": [
        "print(\"Shape of x_train : \", X_train.shape)\n",
        "print(\"Shape of y_train : \", y_train.shape)\n",
        "print(\"Shape of x_test : \", X_test.shape)\n",
        "print(\"Shape of y_test : \", y_test.shape)"
      ],
      "metadata": {
        "execution": {
          "iopub.status.busy": "2023-08-03T07:44:47.960801Z",
          "iopub.execute_input": "2023-08-03T07:44:47.961409Z",
          "iopub.status.idle": "2023-08-03T07:44:47.969782Z",
          "shell.execute_reply.started": "2023-08-03T07:44:47.961369Z",
          "shell.execute_reply": "2023-08-03T07:44:47.968483Z"
        },
        "trusted": true,
        "id": "AmZiHwoE8r-U"
      },
      "outputs": [],
      "execution_count": null
    },
    {
      "cell_type": "code",
      "source": [
        "Model = LinearRegression()\n",
        "Model.fit(X_train, y_train)"
      ],
      "metadata": {
        "execution": {
          "iopub.status.busy": "2023-08-03T07:44:47.971Z",
          "iopub.execute_input": "2023-08-03T07:44:47.972034Z",
          "iopub.status.idle": "2023-08-03T07:44:48.012324Z",
          "shell.execute_reply.started": "2023-08-03T07:44:47.971997Z",
          "shell.execute_reply": "2023-08-03T07:44:48.011298Z"
        },
        "trusted": true,
        "id": "VnlufQBM8r-U"
      },
      "outputs": [],
      "execution_count": null
    },
    {
      "cell_type": "code",
      "source": [
        "y_pred = Model.predict(X_test)"
      ],
      "metadata": {
        "execution": {
          "iopub.status.busy": "2023-08-03T07:44:48.013579Z",
          "iopub.execute_input": "2023-08-03T07:44:48.013972Z",
          "iopub.status.idle": "2023-08-03T07:44:48.019376Z",
          "shell.execute_reply.started": "2023-08-03T07:44:48.013929Z",
          "shell.execute_reply": "2023-08-03T07:44:48.018477Z"
        },
        "trusted": true,
        "id": "94EXCZKb8r-U"
      },
      "outputs": [],
      "execution_count": null
    },
    {
      "cell_type": "code",
      "source": [
        "print(\"Mean Absolute Error of Model is: \", metrics.mean_absolute_error(y_test,y_pred))\n",
        "print(\"Mean Squared Error of Model is: \", metrics.mean_squared_error(y_test,y_pred))\n",
        "print(\"Root Mean Squared of Model is: \", np.sqrt(metrics.mean_squared_error(y_test,y_pred)))\n",
        "print(\"R2 Score of Model is: \", metrics.r2_score(y_test,y_pred))"
      ],
      "metadata": {
        "execution": {
          "iopub.status.busy": "2023-08-03T07:44:48.020815Z",
          "iopub.execute_input": "2023-08-03T07:44:48.02141Z",
          "iopub.status.idle": "2023-08-03T07:44:48.037918Z",
          "shell.execute_reply.started": "2023-08-03T07:44:48.021374Z",
          "shell.execute_reply": "2023-08-03T07:44:48.036799Z"
        },
        "trusted": true,
        "id": "hfylrg4z8r-V"
      },
      "outputs": [],
      "execution_count": null
    },
    {
      "cell_type": "code",
      "source": [
        "k_fold = KFold(10)\n",
        "print (cross_val_score(Model, X_model_norm, y_model.ravel(), cv=k_fold, n_jobs=1))"
      ],
      "metadata": {
        "execution": {
          "iopub.status.busy": "2023-08-03T07:44:48.039365Z",
          "iopub.execute_input": "2023-08-03T07:44:48.039977Z",
          "iopub.status.idle": "2023-08-03T07:44:48.080169Z",
          "shell.execute_reply.started": "2023-08-03T07:44:48.039941Z",
          "shell.execute_reply": "2023-08-03T07:44:48.079492Z"
        },
        "trusted": true,
        "id": "IHQYwhvu8r-V"
      },
      "outputs": [],
      "execution_count": null
    },
    {
      "cell_type": "markdown",
      "source": [
        "# 13- Higher Dimension Linear Regression"
      ],
      "metadata": {
        "id": "pbX8jYy-8r-V"
      }
    },
    {
      "cell_type": "code",
      "source": [
        "def check(Dimension, testsize):\n",
        "    r2 = 0.6289\n",
        "    for column in X_model:\n",
        "        New_Col_name = column + str(Dimension)\n",
        "        New_Col_value = X_model[column]**Dimension\n",
        "        X_model.insert(0, New_Col_name, New_Col_value)\n",
        "        X_train, X_test, y_train, y_test = train_test_split(X_model, y_model,test_size=testsize,random_state=0)\n",
        "        New_model = LinearRegression()\n",
        "        New_model.fit(X_train, y_train)\n",
        "        y_pred = New_model.predict (X_test)\n",
        "        r2_new = metrics.r2_score(y_test, y_pred)\n",
        "        if r2_new < r2:\n",
        "            X_model.drop([New_Col_name], axis=1, inplace=True)\n",
        "        else:\n",
        "            r2 = r2_new\n",
        "\n",
        "    print(\"R2 score is: \", r2)\n",
        "check(2,0.2)"
      ],
      "metadata": {
        "execution": {
          "iopub.status.busy": "2023-08-03T07:44:48.08126Z",
          "iopub.execute_input": "2023-08-03T07:44:48.081718Z",
          "iopub.status.idle": "2023-08-03T07:44:48.126256Z",
          "shell.execute_reply.started": "2023-08-03T07:44:48.081689Z",
          "shell.execute_reply": "2023-08-03T07:44:48.124831Z"
        },
        "trusted": true,
        "id": "kntHmzTt8r-V"
      },
      "outputs": [],
      "execution_count": null
    },
    {
      "cell_type": "code",
      "source": [
        "X_model"
      ],
      "metadata": {
        "execution": {
          "iopub.status.busy": "2023-08-03T07:44:48.127848Z",
          "iopub.execute_input": "2023-08-03T07:44:48.129484Z",
          "iopub.status.idle": "2023-08-03T07:44:48.177295Z",
          "shell.execute_reply.started": "2023-08-03T07:44:48.12942Z",
          "shell.execute_reply": "2023-08-03T07:44:48.176005Z"
        },
        "trusted": true,
        "id": "TM07PRa38r-V"
      },
      "outputs": [],
      "execution_count": null
    },
    {
      "cell_type": "markdown",
      "source": [
        "# 14- Dot Model"
      ],
      "metadata": {
        "id": "adEtQ2sh8r-V"
      }
    },
    {
      "cell_type": "code",
      "source": [
        "Bipolar_Anx = X_model[\"Bipolar disorders\"]*X_model[\"Anxiety disorders\"]\n",
        "Bipolar_Anx2 = X_model[\"Bipolar disorders2\"]*X_model[\"Anxiety disorders2\"]\n",
        "Dep_Schi = X_model[\"Depressive disorders\"]* X_model[\"Schizophrenia disorders\"]\n",
        "Dep_Schi2 = X_model[\"Depressive disorders2\"]* X_model[\"Schizophrenia disorders2\"]"
      ],
      "metadata": {
        "execution": {
          "iopub.status.busy": "2023-08-03T07:44:48.180606Z",
          "iopub.execute_input": "2023-08-03T07:44:48.18214Z",
          "iopub.status.idle": "2023-08-03T07:44:48.195775Z",
          "shell.execute_reply.started": "2023-08-03T07:44:48.182096Z",
          "shell.execute_reply": "2023-08-03T07:44:48.194711Z"
        },
        "trusted": true,
        "id": "NsxbsUDj8r-V"
      },
      "outputs": [],
      "execution_count": null
    },
    {
      "cell_type": "code",
      "source": [
        "X_model.insert(0, \"Bipolar_Anx\", Bipolar_Anx)\n",
        "X_model.insert(0, \"Bipolar_Anx2\", Bipolar_Anx2)\n",
        "X_model.insert(0, \"Dep_Schi\", Dep_Schi)\n",
        "X_model.insert(0, \"Dep_Schi2\", Dep_Schi2)"
      ],
      "metadata": {
        "execution": {
          "iopub.status.busy": "2023-08-03T07:44:48.197839Z",
          "iopub.execute_input": "2023-08-03T07:44:48.199751Z",
          "iopub.status.idle": "2023-08-03T07:44:48.217308Z",
          "shell.execute_reply.started": "2023-08-03T07:44:48.199702Z",
          "shell.execute_reply": "2023-08-03T07:44:48.216324Z"
        },
        "trusted": true,
        "id": "tDYJNQgn8r-V"
      },
      "outputs": [],
      "execution_count": null
    },
    {
      "cell_type": "code",
      "source": [
        "X_train, X_test, y_train, y_test = train_test_split(X_model, y_model,test_size=0.2,random_state=0)\n",
        "Model = LinearRegression()\n",
        "Model.fit(X_train, y_train)\n",
        "y_pred = Model.predict(X_test)\n",
        "r2 = metrics.r2_score(y_test, y_pred)\n",
        "r2"
      ],
      "metadata": {
        "execution": {
          "iopub.status.busy": "2023-08-03T07:44:48.218802Z",
          "iopub.execute_input": "2023-08-03T07:44:48.219409Z",
          "iopub.status.idle": "2023-08-03T07:44:48.278513Z",
          "shell.execute_reply.started": "2023-08-03T07:44:48.219366Z",
          "shell.execute_reply": "2023-08-03T07:44:48.277491Z"
        },
        "trusted": true,
        "id": "q-8nIKBe8r-W"
      },
      "outputs": [],
      "execution_count": null
    },
    {
      "cell_type": "markdown",
      "source": [
        "# 15- Display Model's Output"
      ],
      "metadata": {
        "id": "fLV9JJX68r-W"
      }
    },
    {
      "cell_type": "code",
      "source": [
        "a = X_test[\"Bipolar disorders\"]\n",
        "b = y_test\n",
        "c = X_test[\"Bipolar disorders\"]\n",
        "d = y_pred"
      ],
      "metadata": {
        "execution": {
          "iopub.status.busy": "2023-08-03T07:44:48.280101Z",
          "iopub.execute_input": "2023-08-03T07:44:48.280917Z",
          "iopub.status.idle": "2023-08-03T07:44:48.294782Z",
          "shell.execute_reply.started": "2023-08-03T07:44:48.28088Z",
          "shell.execute_reply": "2023-08-03T07:44:48.293187Z"
        },
        "trusted": true,
        "id": "BbsqGe1h8r-W"
      },
      "outputs": [],
      "execution_count": null
    },
    {
      "cell_type": "code",
      "source": [
        "font1 = {'family':'fantasy','color':'blue','size':20}\n",
        "font2 = {'family':'serif','color':'darkred','size':20}\n",
        "font3 = {'family':'cursive','color':'green','size':20}"
      ],
      "metadata": {
        "execution": {
          "iopub.status.busy": "2023-08-03T07:44:48.29997Z",
          "iopub.execute_input": "2023-08-03T07:44:48.303845Z",
          "iopub.status.idle": "2023-08-03T07:44:48.313024Z",
          "shell.execute_reply.started": "2023-08-03T07:44:48.3038Z",
          "shell.execute_reply": "2023-08-03T07:44:48.311897Z"
        },
        "trusted": true,
        "id": "Ub2rcQjf8r-W"
      },
      "outputs": [],
      "execution_count": null
    },
    {
      "cell_type": "code",
      "source": [
        "plt.figure(figsize= (20,10), dpi=200)\n",
        "plt.title(\"Bipolar Prediction\",fontdict=font2)\n",
        "plt.xlabel(\"Bipolar\",fontdict= font3)\n",
        "plt.ylabel(\"Eating\",fontdict=font1)\n",
        "plt.xticks(fontsize=15)\n",
        "plt.yticks(fontsize=15)\n",
        "plt.scatter(a,b, color = 'blue', label = \"Real Values\")\n",
        "plt.scatter(c,d, color = 'maroon', label = \"Predicted Values\", marker=\"H\", s=80)\n",
        "plt.legend(fontsize=15)\n",
        "plt.show()"
      ],
      "metadata": {
        "execution": {
          "iopub.status.busy": "2023-08-03T07:44:48.319505Z",
          "iopub.execute_input": "2023-08-03T07:44:48.323589Z",
          "iopub.status.idle": "2023-08-03T07:44:49.216641Z",
          "shell.execute_reply.started": "2023-08-03T07:44:48.32354Z",
          "shell.execute_reply": "2023-08-03T07:44:49.215495Z"
        },
        "trusted": true,
        "id": "HQi-77R68r-W"
      },
      "outputs": [],
      "execution_count": null
    },
    {
      "cell_type": "code",
      "source": [
        "a1 = X_test[\"Schizophrenia disorders\"]\n",
        "b1 = y_test\n",
        "c1 = X_test[\"Schizophrenia disorders\"]\n",
        "d1 = y_pred"
      ],
      "metadata": {
        "execution": {
          "iopub.status.busy": "2023-08-03T07:44:49.217967Z",
          "iopub.execute_input": "2023-08-03T07:44:49.218341Z",
          "iopub.status.idle": "2023-08-03T07:44:49.224823Z",
          "shell.execute_reply.started": "2023-08-03T07:44:49.218308Z",
          "shell.execute_reply": "2023-08-03T07:44:49.223691Z"
        },
        "trusted": true,
        "id": "d6YL40o18r-W"
      },
      "outputs": [],
      "execution_count": null
    },
    {
      "cell_type": "code",
      "source": [
        "plt.figure(figsize= (20,10), dpi=200)\n",
        "plt.title(\"Schizophrenia Prediction\",fontdict=font2)\n",
        "plt.xlabel(\"Schizophrenia\",fontdict= font3)\n",
        "plt.ylabel(\"Eating\",fontdict=font1)\n",
        "plt.xticks(fontsize=15)\n",
        "plt.yticks(fontsize=15)\n",
        "plt.scatter(a1,b1, color = 'blue', label = \"Real Values\")\n",
        "plt.scatter(c1,d1, color = 'Orange', label = \"Predicted Values\", marker=\"H\", s=80)\n",
        "plt.legend(fontsize=15)\n",
        "plt.show()"
      ],
      "metadata": {
        "execution": {
          "iopub.status.busy": "2023-08-03T07:44:49.226324Z",
          "iopub.execute_input": "2023-08-03T07:44:49.226756Z",
          "iopub.status.idle": "2023-08-03T07:44:50.076256Z",
          "shell.execute_reply.started": "2023-08-03T07:44:49.226717Z",
          "shell.execute_reply": "2023-08-03T07:44:50.075361Z"
        },
        "trusted": true,
        "id": "_o-UkBs98r-W"
      },
      "outputs": [],
      "execution_count": null
    },
    {
      "cell_type": "code",
      "source": [
        "a2 = X_test[\"Anxiety disorders\"]\n",
        "b2 = y_test\n",
        "c2 = X_test[\"Anxiety disorders\"]\n",
        "d2 = y_pred"
      ],
      "metadata": {
        "execution": {
          "iopub.status.busy": "2023-08-03T07:44:50.077536Z",
          "iopub.execute_input": "2023-08-03T07:44:50.077836Z",
          "iopub.status.idle": "2023-08-03T07:44:50.083212Z",
          "shell.execute_reply.started": "2023-08-03T07:44:50.07781Z",
          "shell.execute_reply": "2023-08-03T07:44:50.082083Z"
        },
        "trusted": true,
        "id": "P4zg_W1U8r-X"
      },
      "outputs": [],
      "execution_count": null
    },
    {
      "cell_type": "code",
      "source": [
        "plt.figure(figsize= (20,10), dpi=200)\n",
        "plt.title(\"Anxiety Prediction\",fontdict=font2)\n",
        "plt.xlabel(\"Anxiety\",fontdict= font3)\n",
        "plt.ylabel(\"Eating\",fontdict=font1)\n",
        "plt.xticks(fontsize=15)\n",
        "plt.yticks(fontsize=15)\n",
        "plt.scatter(a2,b2, color = 'blue', label = \"Real Values\")\n",
        "plt.scatter(c2,d2, color = 'indigo', label = \"Predicted Values\", marker=\"H\", s=80)\n",
        "plt.legend(fontsize=15)\n",
        "plt.show()"
      ],
      "metadata": {
        "execution": {
          "iopub.status.busy": "2023-08-03T07:44:50.084497Z",
          "iopub.execute_input": "2023-08-03T07:44:50.084789Z",
          "iopub.status.idle": "2023-08-03T07:44:50.911351Z",
          "shell.execute_reply.started": "2023-08-03T07:44:50.084763Z",
          "shell.execute_reply": "2023-08-03T07:44:50.910527Z"
        },
        "trusted": true,
        "id": "sxFum9Nc8r-X"
      },
      "outputs": [],
      "execution_count": null
    },
    {
      "cell_type": "code",
      "source": [
        "a3 = X_test[\"Depressive disorders\"]\n",
        "b3 = y_test\n",
        "c3 = X_test[\"Depressive disorders\"]\n",
        "d3 = y_pred"
      ],
      "metadata": {
        "execution": {
          "iopub.status.busy": "2023-08-03T07:44:50.912552Z",
          "iopub.execute_input": "2023-08-03T07:44:50.913398Z",
          "iopub.status.idle": "2023-08-03T07:44:50.91827Z",
          "shell.execute_reply.started": "2023-08-03T07:44:50.913365Z",
          "shell.execute_reply": "2023-08-03T07:44:50.917238Z"
        },
        "trusted": true,
        "id": "xGbekzKA8r-X"
      },
      "outputs": [],
      "execution_count": null
    },
    {
      "cell_type": "code",
      "source": [
        "plt.figure(figsize= (20,10), dpi=200)\n",
        "plt.title(\"Depressive Prediction\",fontdict=font2)\n",
        "plt.xlabel(\"Depressive\",fontdict= font3)\n",
        "plt.ylabel(\"Eating\",fontdict=font1)\n",
        "plt.xticks(fontsize=15)\n",
        "plt.yticks(fontsize=15)\n",
        "plt.scatter(a3,b3, color = 'blue', label = \"Real Values\")\n",
        "plt.scatter(c3,d3, color = 'green', label = \"Predicted Values\", marker=\"H\", s=80)\n",
        "plt.legend(fontsize=15)\n",
        "plt.show()"
      ],
      "metadata": {
        "execution": {
          "iopub.status.busy": "2023-08-03T07:44:50.919391Z",
          "iopub.execute_input": "2023-08-03T07:44:50.919727Z",
          "iopub.status.idle": "2023-08-03T07:44:51.761514Z",
          "shell.execute_reply.started": "2023-08-03T07:44:50.9197Z",
          "shell.execute_reply": "2023-08-03T07:44:51.760498Z"
        },
        "trusted": true,
        "id": "h3Hj4WX58r-X"
      },
      "outputs": [],
      "execution_count": null
    },
    {
      "cell_type": "markdown",
      "source": [
        "# 16- Conclusion"
      ],
      "metadata": {
        "id": "AV3wTfaP8r-X"
      }
    },
    {
      "cell_type": "markdown",
      "source": [
        "<div style=\"color:white;\n",
        "           display:fill;\n",
        "           border-radius:100px;\n",
        "           background-color:#5642C5;\n",
        "           font-size:120%;\n",
        "           font-family:Verdana;\n",
        "           letter-spacing:0.5px\">\n",
        "\n",
        "<p style=\"padding: 50px;\n",
        "              color:white;\">As we have seen, the maximum regression accuracy for this model was almost 70%. Since correlation between variables is very important in a regression project, perhaps the required correlation was not present in this dataset. I think the use of clustering and PCA or even SOM can give a good result in this data set.\n",
        "thank you for your attention.\n",
        "If this notebook was useful for you, please vote for this notebook. Good luck✔\n",
        "\n",
        "</p>\n",
        "</div>\n"
      ],
      "metadata": {
        "id": "wuVNh0fd8r-X"
      }
    },
    {
      "cell_type": "code",
      "source": [],
      "metadata": {
        "id": "xBJM5JPu8r-Y"
      },
      "outputs": [],
      "execution_count": null
    }
  ]
}